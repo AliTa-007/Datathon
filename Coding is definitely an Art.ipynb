{
  "nbformat": 4,
  "nbformat_minor": 0,
  "metadata": {
    "colab": {
      "provenance": [],
      "authorship_tag": "ABX9TyNDSld2/kbtASJ9V51UjopK",
      "include_colab_link": true
    },
    "kernelspec": {
      "name": "python3",
      "display_name": "Python 3"
    },
    "language_info": {
      "name": "python"
    }
  },
  "cells": [
    {
      "cell_type": "markdown",
      "metadata": {
        "id": "view-in-github",
        "colab_type": "text"
      },
      "source": [
        "<a href=\"https://colab.research.google.com/github/AliTa-007/Datathon/blob/main/Coding%20is%20definitely%20an%20Art.ipynb\" target=\"_parent\"><img src=\"https://colab.research.google.com/assets/colab-badge.svg\" alt=\"Open In Colab\"/></a>"
      ]
    },
    {
      "cell_type": "code",
      "execution_count": 51,
      "metadata": {
        "id": "DEMy7lSgp35k"
      },
      "outputs": [],
      "source": [
        "# Importing all necessary libraries\n",
        "\n",
        "import pandas as pd\n",
        "import numpy as np\n",
        "import datetime\n",
        "import seaborn as sns\n",
        "from sklearn.preprocessing import OneHotEncoder\n",
        "from sklearn.linear_model import LogisticRegression\n",
        "from sklearn.tree import DecisionTreeClassifier"
      ]
    },
    {
      "cell_type": "code",
      "source": [
        "# Initializing the tables\n",
        "\n",
        "xls = pd.ExcelFile('Data23.xlsx')\n",
        "sales = pd.read_excel(xls, 'SALES')\n",
        "products = pd.read_excel(xls, 'PRODUCTS')\n",
        "customers = pd.read_excel(xls, 'CUSTOMERS')"
      ],
      "metadata": {
        "id": "45JIV8btD1L7"
      },
      "execution_count": 52,
      "outputs": []
    },
    {
      "cell_type": "code",
      "source": [
        "# Merging all the tables into one\n",
        "\n",
        "final =  sales.merge(products,on='ProductID').merge(customers,on='UserID')"
      ],
      "metadata": {
        "id": "CqK_0qahD1XL"
      },
      "execution_count": 53,
      "outputs": []
    },
    {
      "cell_type": "code",
      "source": [
        "# We will change some variables to a 0-1 form\n",
        "# It is not necessary as Channel changes and we will build our model on the User dataframe\n",
        "\n",
        "final[\"Gender\"] = final.loc[:, \"Gender\"].replace({\"FEMALE\": 0, \"MALE\": 1})\n",
        "final[\"Channel\"] = final.loc[:, \"Channel\"].replace({\"MOBILE\": 0, \"WEB\": 1})\n",
        "\n",
        "# final = pd.get_dummies(final, columns=['PaymentType'])"
      ],
      "metadata": {
        "id": "fkIhr7NpD1hs"
      },
      "execution_count": 54,
      "outputs": []
    },
    {
      "cell_type": "code",
      "source": [
        "# We call the transactions in the first 9-month period train and the rest is called test\n",
        "# After we split the transactions table into the two desired time frames, we filter the \"active\" users\n",
        "\n",
        "train = final.loc[final['DateTime'] < pd.Timestamp(2017,10,1), ]\n",
        "train_active_users_transactions = train.loc[train['DateTime'] < pd.Timestamp(2017,7,1), ]\n",
        "train_last_transaction_grpd = train[train[\"UserID\"].isin(train_active_users_transactions[\"UserID\"])].groupby(\"UserID\")[\"DateTime\"].agg(max)\n",
        "\n",
        "test = final.loc[final['DateTime'] >= pd.Timestamp(2017,10,1), ]\n",
        "test_active_users_transactions = test.loc[test['DateTime'] < pd.Timestamp(2018,4,1), ]\n",
        "test_last_transaction_grpd = test[test[\"UserID\"].isin(test_active_users_transactions[\"UserID\"])].groupby(\"UserID\")[\"DateTime\"].agg(max)\n",
        "\n",
        "# I will add the last transaction date to the users table for the desired members only\n",
        "train_customers = customers.copy()\n",
        "for i, date in enumerate(train_last_transaction_grpd):\n",
        "  train_customers.loc[train_customers['UserID'] == train_last_transaction_grpd.index[i], \"Last_Transaction_Date\"] = date\n",
        "train_customers = train_customers[~train_customers['Last_Transaction_Date'].isna()]\n",
        "\n",
        "test_customers = customers.copy()\n",
        "for i, date in enumerate(test_last_transaction_grpd):\n",
        "  test_customers.loc[test_customers['UserID'] == test_last_transaction_grpd.index[i], \"Last_Transaction_Date\"] = date\n",
        "test_customers = test_customers[~test_customers['Last_Transaction_Date'].isna()]\n",
        "\n",
        "print(customers, train_customers, test_customers)"
      ],
      "metadata": {
        "id": "IToSkHm2D1eX"
      },
      "execution_count": null,
      "outputs": []
    },
    {
      "cell_type": "code",
      "source": [
        "# Change the train and test active users dfs' variables to numeric values\n",
        "\n",
        "train_customers = pd.get_dummies(train_customers, columns=['Location'])\n",
        "train_customers[\"Gender\"] = train_customers.loc[:, \"Gender\"].replace({\"FEMALE\": 0, \"MALE\": 1})\n",
        "\n",
        "test_customers = pd.get_dummies(test_customers, columns=['Location'])\n",
        "test_customers[\"Gender\"] = test_customers.loc[:, \"Gender\"].replace({\"FEMALE\": 0, \"MALE\": 1})\n",
        "\n",
        "print(train_customers, test_customers)"
      ],
      "metadata": {
        "id": "eI5Hy5FVD1lo"
      },
      "execution_count": null,
      "outputs": []
    },
    {
      "cell_type": "code",
      "source": [
        "# We will create the churn variable for train and test users\n",
        "train_customers[\"churn\"] = np.where((train_customers[\"Last_Transaction_Date\"] < pd.Timestamp(2017,7,1)), 1, 0)\n",
        "\n",
        "test_customers[\"churn\"] = np.where((test_customers[\"Last_Transaction_Date\"] < pd.Timestamp(2018,4,1)), 1, 0)\n",
        "\n",
        "print(train_customers, test_customers)"
      ],
      "metadata": {
        "id": "SOu7h3NWZnYF"
      },
      "execution_count": null,
      "outputs": []
    },
    {
      "cell_type": "markdown",
      "source": [
        "======================================================================\n",
        "======================================================================\n"
      ],
      "metadata": {
        "id": "xYrZeQ9Djpq9"
      }
    },
    {
      "cell_type": "code",
      "source": [
        "\n",
        "x_train = train_customers.drop('churn', axis = 1)\n",
        "\n",
        "y_train = train_customers['churn']\n",
        "\n",
        "x_test = test_customers.drop('churn', axis = 1)\n",
        "\n",
        "y_test = test_customers['churn']\n",
        "\n"
      ],
      "metadata": {
        "id": "bUSyLTYljPrt"
      },
      "execution_count": 76,
      "outputs": []
    }
  ]
}