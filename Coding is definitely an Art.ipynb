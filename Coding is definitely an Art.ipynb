{
  "nbformat": 4,
  "nbformat_minor": 0,
  "metadata": {
    "colab": {
      "provenance": [],
      "authorship_tag": "ABX9TyMWQuYO6dVB84ws8gLI7RIt",
      "include_colab_link": true
    },
    "kernelspec": {
      "name": "python3",
      "display_name": "Python 3"
    },
    "language_info": {
      "name": "python"
    }
  },
  "cells": [
    {
      "cell_type": "markdown",
      "metadata": {
        "id": "view-in-github",
        "colab_type": "text"
      },
      "source": [
        "<a href=\"https://colab.research.google.com/github/AliTa-007/Datathon/blob/main/Coding%20is%20definitely%20an%20Art.ipynb\" target=\"_parent\"><img src=\"https://colab.research.google.com/assets/colab-badge.svg\" alt=\"Open In Colab\"/></a>"
      ]
    },
    {
      "cell_type": "code",
      "execution_count": 51,
      "metadata": {
        "id": "DEMy7lSgp35k"
      },
      "outputs": [],
      "source": [
        "# Importing all necessary libraries\n",
        "\n",
        "import pandas as pd\n",
        "import numpy as np\n",
        "import datetime\n",
        "import seaborn as sns\n",
        "from sklearn.preprocessing import OneHotEncoder\n",
        "from sklearn.linear_model import LogisticRegression\n",
        "from sklearn.tree import DecisionTreeClassifier"
      ]
    },
    {
      "cell_type": "code",
      "source": [
        "# Initializing the tables\n",
        "\n",
        "xls = pd.ExcelFile('Data23.xlsx')\n",
        "sales = pd.read_excel(xls, 'SALES')\n",
        "products = pd.read_excel(xls, 'PRODUCTS')\n",
        "customers = pd.read_excel(xls, 'CUSTOMERS')"
      ],
      "metadata": {
        "id": "45JIV8btD1L7"
      },
      "execution_count": 52,
      "outputs": []
    },
    {
      "cell_type": "code",
      "source": [
        "# Merging all the tables into one\n",
        "\n",
        "final =  sales.merge(products,on='ProductID').merge(customers,on='UserID')"
      ],
      "metadata": {
        "id": "CqK_0qahD1XL"
      },
      "execution_count": 53,
      "outputs": []
    },
    {
      "cell_type": "code",
      "source": [
        "# We will change some variables to a 0-1 form\n",
        "# It is not necessary as Channel changes and we will build our model on the User dataframe\n",
        "\n",
        "final[\"Gender\"] = final.loc[:, \"Gender\"].replace({\"FEMALE\": 0, \"MALE\": 1})\n",
        "final[\"Channel\"] = final.loc[:, \"Channel\"].replace({\"MOBILE\": 0, \"WEB\": 1})\n",
        "\n",
        "# final = pd.get_dummies(final, columns=['PaymentType'])"
      ],
      "metadata": {
        "id": "fkIhr7NpD1hs"
      },
      "execution_count": 54,
      "outputs": []
    },
    {
      "cell_type": "code",
      "source": [
        "# We call the transactions in the first 9-month period train and the rest is called test\n",
        "# After we split the transactions table into the two desired time frames, we filter the \"active\" users\n",
        "\n",
        "train = final.loc[final['DateTime'] < pd.Timestamp(2017,10,1), ]\n",
        "train_active_users_transactions = train.loc[train['DateTime'] < pd.Timestamp(2017,7,1), ]\n",
        "train_last_transaction_grpd = train[train[\"UserID\"].isin(train_active_users_transactions[\"UserID\"])].groupby(\"UserID\")[\"DateTime\"].agg(max)\n",
        "\n",
        "test = final.loc[final['DateTime'] >= pd.Timestamp(2017,10,1), ]\n",
        "test_active_users_transactions = test.loc[test['DateTime'] < pd.Timestamp(2018,4,1), ]\n",
        "test_last_transaction_grpd = test[test[\"UserID\"].isin(test_active_users_transactions[\"UserID\"])].groupby(\"UserID\")[\"DateTime\"].agg(max)\n",
        "\n",
        "# I will add the last transaction date to the users table for the desired members only\n",
        "train_customers = customers.copy()\n",
        "for i, date in enumerate(train_last_transaction_grpd):\n",
        "  train_customers.loc[train_customers['UserID'] == train_last_transaction_grpd.index[i], \"Last_Transaction_Date\"] = date\n",
        "train_customers = train_customers[~train_customers['Last_Transaction_Date'].isna()]\n",
        "\n",
        "test_customers = customers.copy()\n",
        "for i, date in enumerate(test_last_transaction_grpd):\n",
        "  test_customers.loc[test_customers['UserID'] == test_last_transaction_grpd.index[i], \"Last_Transaction_Date\"] = date\n",
        "test_customers = test_customers[~test_customers['Last_Transaction_Date'].isna()]\n",
        "\n",
        "print(customers, train_customers, test_customers)"
      ],
      "metadata": {
        "id": "IToSkHm2D1eX"
      },
      "execution_count": null,
      "outputs": []
    },
    {
      "cell_type": "code",
      "source": [
        "# Change the train and test active users dfs' variables to numeric values\n",
        "\n",
        "train_customers = pd.get_dummies(train_customers, columns=['Location'])\n",
        "train_customers[\"Gender\"] = train_customers.loc[:, \"Gender\"].replace({\"FEMALE\": 0, \"MALE\": 1})\n",
        "\n",
        "test_customers = pd.get_dummies(test_customers, columns=['Location'])\n",
        "test_customers[\"Gender\"] = test_customers.loc[:, \"Gender\"].replace({\"FEMALE\": 0, \"MALE\": 1})\n",
        "\n",
        "print(train_customers, test_customers)"
      ],
      "metadata": {
        "id": "eI5Hy5FVD1lo"
      },
      "execution_count": null,
      "outputs": []
    },
    {
      "cell_type": "code",
      "source": [
        "# We will create the churn variable for train and test users\n",
        "train_customers[\"churn\"] = np.where((train_customers[\"Last_Transaction_Date\"] < pd.Timestamp(2017,7,1)), 1, 0)\n",
        "\n",
        "test_customers[\"churn\"] = np.where((test_customers[\"Last_Transaction_Date\"] < pd.Timestamp(2018,4,1)), 1, 0)\n",
        "\n",
        "print(train_customers, test_customers)"
      ],
      "metadata": {
        "id": "SOu7h3NWZnYF"
      },
      "execution_count": null,
      "outputs": []
    },
    {
      "cell_type": "markdown",
      "source": [
        "======================================================================\n",
        "======================================================================\n"
      ],
      "metadata": {
        "id": "xYrZeQ9Djpq9"
      }
    },
    {
      "cell_type": "code",
      "source": [
        "\n",
        "x_train = train_customers.drop('churn', axis = 1)\n",
        "\n",
        "y_train = train_customers['churn']\n",
        "\n",
        "x_test = test_customers.drop('churn', axis = 1)\n",
        "\n",
        "y_test = test_customers['churn']\n",
        "\n"
      ],
      "metadata": {
        "id": "bUSyLTYljPrt"
      },
      "execution_count": 76,
      "outputs": []
    },
    {
      "cell_type": "code",
      "source": [
        "print(x_train, y_train, x_test, y_test)"
      ],
      "metadata": {
        "colab": {
          "base_uri": "https://localhost:8080/"
        },
        "id": "WsawB-U2k8Qe",
        "outputId": "ed83b700-82d2-4f5b-a281-dbad08fb5357"
      },
      "execution_count": 77,
      "outputs": [
        {
          "output_type": "stream",
          "name": "stdout",
          "text": [
            "         UserID    UserFirstTransaction  Gender  Age   Last_Transaction_Date  \\\n",
            "3     500234730 2017-01-24 00:00:00.000       1   33 2017-01-29 18:49:51.470   \n",
            "4     500234752 2013-10-24 00:00:00.000       1   34 2017-09-05 18:10:24.850   \n",
            "6     500234829 2009-09-01 00:00:00.000       1   42 2017-09-30 14:24:08.810   \n",
            "7     500234840 2017-05-31 19:20:26.970       0   39 2017-05-31 19:22:57.230   \n",
            "12    500235181 2010-03-25 00:00:00.000       0   40 2017-08-31 16:43:44.890   \n",
            "...         ...                     ...     ...  ...                     ...   \n",
            "3917  500611425 2004-05-20 00:00:00.000       0   42 2017-08-06 12:19:57.360   \n",
            "3919  500611491 2015-10-29 00:00:00.000       1   27 2017-09-23 17:25:25.650   \n",
            "3924  500612140 2016-09-19 00:00:00.000       1   24 2017-06-27 20:18:39.850   \n",
            "3926  500612195 2011-02-26 00:00:00.000       1   46 2017-08-07 13:52:00.520   \n",
            "3928  500612404 2017-06-09 18:57:14.750       0   46 2017-06-09 18:57:14.750   \n",
            "\n",
            "      Location_ADANA  Location_ANKARA  Location_ANTALYA  Location_BURSA  \\\n",
            "3                  0                0                 0               0   \n",
            "4                  0                0                 0               0   \n",
            "6                  0                0                 0               0   \n",
            "7                  0                0                 0               0   \n",
            "12                 0                1                 0               0   \n",
            "...              ...              ...               ...             ...   \n",
            "3917               0                0                 0               0   \n",
            "3919               0                0                 1               0   \n",
            "3924               0                1                 0               0   \n",
            "3926               0                0                 0               1   \n",
            "3928               0                0                 0               0   \n",
            "\n",
            "      Location_ESKISEHIR  Location_ISTANBUL  Location_IZMIR  Location_KAYSERI  \\\n",
            "3                      0                  1               0                 0   \n",
            "4                      0                  1               0                 0   \n",
            "6                      1                  0               0                 0   \n",
            "7                      0                  0               1                 0   \n",
            "12                     0                  0               0                 0   \n",
            "...                  ...                ...             ...               ...   \n",
            "3917                   0                  0               0                 1   \n",
            "3919                   0                  0               0                 0   \n",
            "3924                   0                  0               0                 0   \n",
            "3926                   0                  0               0                 0   \n",
            "3928                   0                  1               0                 0   \n",
            "\n",
            "      Location_TRABZON  \n",
            "3                    0  \n",
            "4                    0  \n",
            "6                    0  \n",
            "7                    0  \n",
            "12                   0  \n",
            "...                ...  \n",
            "3917                 0  \n",
            "3919                 0  \n",
            "3924                 0  \n",
            "3926                 0  \n",
            "3928                 0  \n",
            "\n",
            "[1674 rows x 14 columns] 3       1\n",
            "4       0\n",
            "6       0\n",
            "7       1\n",
            "12      0\n",
            "       ..\n",
            "3917    0\n",
            "3919    0\n",
            "3924    1\n",
            "3926    0\n",
            "3928    1\n",
            "Name: churn, Length: 1674, dtype: int64          UserID    UserFirstTransaction  Gender  Age   Last_Transaction_Date  \\\n",
            "0     500234532 2011-10-12 00:00:00.000       0   19 2017-12-17 18:08:28.150   \n",
            "4     500234752 2013-10-24 00:00:00.000       1   34 2018-02-11 19:39:53.710   \n",
            "5     500234763 2017-08-20 20:18:42.910       1   39 2018-05-17 12:22:00.720   \n",
            "6     500234829 2009-09-01 00:00:00.000       1   42 2018-06-12 14:47:11.370   \n",
            "8     500234895 2005-11-10 00:00:00.000       1   31 2018-06-12 12:12:57.810   \n",
            "...         ...                     ...     ...  ...                     ...   \n",
            "3917  500611425 2004-05-20 00:00:00.000       0   42 2018-05-18 18:47:49.220   \n",
            "3919  500611491 2015-10-29 00:00:00.000       1   27 2018-06-07 19:38:38.690   \n",
            "3922  500611887 2017-12-31 14:05:02.080       1   48 2018-06-16 12:49:52.460   \n",
            "3929  500612481 2017-08-01 13:00:19.640       1   35 2017-12-30 13:59:08.520   \n",
            "3930  500612657 2018-03-20 14:42:44.590       1   39 2018-05-21 19:57:11.740   \n",
            "\n",
            "      Location_ADANA  Location_ANKARA  Location_ANTALYA  Location_BURSA  \\\n",
            "0                  0                0                 1               0   \n",
            "4                  0                0                 0               0   \n",
            "5                  1                0                 0               0   \n",
            "6                  0                0                 0               0   \n",
            "8                  0                0                 0               0   \n",
            "...              ...              ...               ...             ...   \n",
            "3917               0                0                 0               0   \n",
            "3919               0                0                 1               0   \n",
            "3922               0                0                 0               0   \n",
            "3929               0                0                 1               0   \n",
            "3930               0                0                 1               0   \n",
            "\n",
            "      Location_ESKISEHIR  Location_ISTANBUL  Location_IZMIR  Location_KAYSERI  \\\n",
            "0                      0                  0               0                 0   \n",
            "4                      0                  1               0                 0   \n",
            "5                      0                  0               0                 0   \n",
            "6                      1                  0               0                 0   \n",
            "8                      0                  1               0                 0   \n",
            "...                  ...                ...             ...               ...   \n",
            "3917                   0                  0               0                 1   \n",
            "3919                   0                  0               0                 0   \n",
            "3922                   0                  0               1                 0   \n",
            "3929                   0                  0               0                 0   \n",
            "3930                   0                  0               0                 0   \n",
            "\n",
            "      Location_TRABZON  \n",
            "0                    0  \n",
            "4                    0  \n",
            "5                    0  \n",
            "6                    0  \n",
            "8                    0  \n",
            "...                ...  \n",
            "3917                 0  \n",
            "3919                 0  \n",
            "3922                 0  \n",
            "3929                 0  \n",
            "3930                 0  \n",
            "\n",
            "[2152 rows x 14 columns] 0       1\n",
            "4       1\n",
            "5       0\n",
            "6       0\n",
            "8       0\n",
            "       ..\n",
            "3917    0\n",
            "3919    0\n",
            "3922    0\n",
            "3929    1\n",
            "3930    0\n",
            "Name: churn, Length: 2152, dtype: int64\n"
          ]
        }
      ]
    }
  ]
}